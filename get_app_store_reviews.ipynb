{
 "cells": [
  {
   "cell_type": "markdown",
   "metadata": {},
   "source": [
    "### Libraries"
   ]
  },
  {
   "cell_type": "markdown",
   "metadata": {},
   "source": [
    "Install some libraries"
   ]
  },
  {
   "cell_type": "code",
   "execution_count": 32,
   "metadata": {},
   "outputs": [],
   "source": [
    "from app_store_scraper import AppStore\n",
    "import pandas as pd\n",
    "import re \n",
    "import numpy as np\n",
    "import matplotlib.pyplot as plt"
   ]
  },
  {
   "cell_type": "markdown",
   "metadata": {},
   "source": [
    "### Ok now get some reviews"
   ]
  },
  {
   "cell_type": "markdown",
   "metadata": {},
   "source": [
    "This command doesn't work for me but it should for you..."
   ]
  },
  {
   "cell_type": "code",
   "execution_count": 2,
   "metadata": {},
   "outputs": [],
   "source": [
    "# bunq = AppStore(country=\"nl\", app_name=\"bunq\",)\n",
    "# bunq.review(how_many=1000)\n",
    "\n",
    "# # save these reviews in a nice format\n",
    "# bunq_reviews_df = pd.DataFrame(data = bunq.reviews)\n",
    "# # write this to file so we don't have to load it every time\n",
    "# bunq_reviews_df.to_csv('./data/bunq_reviews.csv')"
   ]
  },
  {
   "cell_type": "markdown",
   "metadata": {},
   "source": [
    "... so I'll just load the data"
   ]
  },
  {
   "cell_type": "code",
   "execution_count": 3,
   "metadata": {},
   "outputs": [],
   "source": [
    "bunq_reviews_df = pd.read_csv('./data/bunq_reviews.csv', index_col = 0)"
   ]
  },
  {
   "cell_type": "markdown",
   "metadata": {},
   "source": [
    "Aaaaaand now we can see it's all in a nice table\":"
   ]
  },
  {
   "cell_type": "code",
   "execution_count": 4,
   "metadata": {},
   "outputs": [],
   "source": [
    "# make a version with everything lowercase and no punctuation\n",
    "def remove_punctuation_and_make_lower(str_in):\n",
    "    # function to remove punctuation\n",
    "    str_out = re.sub(r'[^\\w\\s]', '', str_in) \n",
    "    return ' '+str_out.lower()+' '\n",
    "\n",
    "bunq_reviews_df['review_clean'] = bunq_reviews_df['review'].apply(lambda x: remove_punctuation_and_make_lower(x))"
   ]
  },
  {
   "cell_type": "code",
   "execution_count": 5,
   "metadata": {},
   "outputs": [
    {
     "data": {
      "text/html": [
       "<div>\n",
       "<style scoped>\n",
       "    .dataframe tbody tr th:only-of-type {\n",
       "        vertical-align: middle;\n",
       "    }\n",
       "\n",
       "    .dataframe tbody tr th {\n",
       "        vertical-align: top;\n",
       "    }\n",
       "\n",
       "    .dataframe thead th {\n",
       "        text-align: right;\n",
       "    }\n",
       "</style>\n",
       "<table border=\"1\" class=\"dataframe\">\n",
       "  <thead>\n",
       "    <tr style=\"text-align: right;\">\n",
       "      <th></th>\n",
       "      <th>date</th>\n",
       "      <th>developerResponse</th>\n",
       "      <th>isEdited</th>\n",
       "      <th>rating</th>\n",
       "      <th>review</th>\n",
       "      <th>title</th>\n",
       "      <th>userName</th>\n",
       "      <th>review_clean</th>\n",
       "    </tr>\n",
       "  </thead>\n",
       "  <tbody>\n",
       "    <tr>\n",
       "      <th>0</th>\n",
       "      <td>2018-03-18 21:55:14</td>\n",
       "      <td>{'id': 2954332, 'body': \"🙂 Thank you for your ...</td>\n",
       "      <td>False</td>\n",
       "      <td>5</td>\n",
       "      <td>De enige reden dat bunq investeert, in staatso...</td>\n",
       "      <td>Meest ethische bank</td>\n",
       "      <td>whaha</td>\n",
       "      <td>de enige reden dat bunq investeert in staatso...</td>\n",
       "    </tr>\n",
       "    <tr>\n",
       "      <th>1</th>\n",
       "      <td>2020-06-18 15:08:26</td>\n",
       "      <td>NaN</td>\n",
       "      <td>False</td>\n",
       "      <td>1</td>\n",
       "      <td>I was a big fan of Bunq until the recent updat...</td>\n",
       "      <td>I was a big fan</td>\n",
       "      <td>IPOQI</td>\n",
       "      <td>i was a big fan of bunq until the recent upda...</td>\n",
       "    </tr>\n",
       "    <tr>\n",
       "      <th>2</th>\n",
       "      <td>2020-06-18 14:36:10</td>\n",
       "      <td>NaN</td>\n",
       "      <td>False</td>\n",
       "      <td>1</td>\n",
       "      <td>Dit is de eerste keer in mijn leven dat ik mij...</td>\n",
       "      <td>Wat een waardeloze update</td>\n",
       "      <td>Robert U NL</td>\n",
       "      <td>dit is de eerste keer in mijn leven dat ik mi...</td>\n",
       "    </tr>\n",
       "    <tr>\n",
       "      <th>3</th>\n",
       "      <td>2020-06-18 15:07:05</td>\n",
       "      <td>NaN</td>\n",
       "      <td>False</td>\n",
       "      <td>1</td>\n",
       "      <td>With the V3 update Bunq totally messed up! Clu...</td>\n",
       "      <td>V3 totally messed up</td>\n",
       "      <td>R@lfee</td>\n",
       "      <td>with the v3 update bunq totally messed up clu...</td>\n",
       "    </tr>\n",
       "    <tr>\n",
       "      <th>4</th>\n",
       "      <td>2020-06-18 14:12:30</td>\n",
       "      <td>NaN</td>\n",
       "      <td>False</td>\n",
       "      <td>1</td>\n",
       "      <td>Grote fan geweest van Bunq. Maar met de laatst...</td>\n",
       "      <td>Verschrikkelijk na update</td>\n",
       "      <td>slammer1024</td>\n",
       "      <td>grote fan geweest van bunq maar met de laatst...</td>\n",
       "    </tr>\n",
       "  </tbody>\n",
       "</table>\n",
       "</div>"
      ],
      "text/plain": [
       "                  date                                  developerResponse  \\\n",
       "0  2018-03-18 21:55:14  {'id': 2954332, 'body': \"🙂 Thank you for your ...   \n",
       "1  2020-06-18 15:08:26                                                NaN   \n",
       "2  2020-06-18 14:36:10                                                NaN   \n",
       "3  2020-06-18 15:07:05                                                NaN   \n",
       "4  2020-06-18 14:12:30                                                NaN   \n",
       "\n",
       "   isEdited  rating                                             review  \\\n",
       "0     False       5  De enige reden dat bunq investeert, in staatso...   \n",
       "1     False       1  I was a big fan of Bunq until the recent updat...   \n",
       "2     False       1  Dit is de eerste keer in mijn leven dat ik mij...   \n",
       "3     False       1  With the V3 update Bunq totally messed up! Clu...   \n",
       "4     False       1  Grote fan geweest van Bunq. Maar met de laatst...   \n",
       "\n",
       "                       title     userName  \\\n",
       "0        Meest ethische bank        whaha   \n",
       "1            I was a big fan        IPOQI   \n",
       "2  Wat een waardeloze update  Robert U NL   \n",
       "3       V3 totally messed up       R@lfee   \n",
       "4  Verschrikkelijk na update  slammer1024   \n",
       "\n",
       "                                        review_clean  \n",
       "0   de enige reden dat bunq investeert in staatso...  \n",
       "1   i was a big fan of bunq until the recent upda...  \n",
       "2   dit is de eerste keer in mijn leven dat ik mi...  \n",
       "3   with the v3 update bunq totally messed up clu...  \n",
       "4   grote fan geweest van bunq maar met de laatst...  "
      ]
     },
     "execution_count": 5,
     "metadata": {},
     "output_type": "execute_result"
    }
   ],
   "source": [
    "bunq_reviews_df.head(5)"
   ]
  },
  {
   "cell_type": "markdown",
   "metadata": {},
   "source": [
    "Let's look at a random review just to see what people are saying:"
   ]
  },
  {
   "cell_type": "code",
   "execution_count": 6,
   "metadata": {},
   "outputs": [
    {
     "name": "stdout",
     "output_type": "stream",
     "text": [
      "original review:\n",
      "\n",
      "Slechter dan dit kan het niet\n",
      "\n",
      "cleaned review:\n",
      "\n",
      " slechter dan dit kan het niet \n"
     ]
    }
   ],
   "source": [
    "rand_row = np.random.choice(bunq_reviews_df.index)\n",
    "print('original review:\\n')\n",
    "print(bunq_reviews_df.loc[rand_row]['review'])\n",
    "\n",
    "print('\\ncleaned review:\\n')\n",
    "print(bunq_reviews_df.loc[rand_row]['review_clean'])"
   ]
  },
  {
   "cell_type": "markdown",
   "metadata": {},
   "source": [
    "Ok now load in the vocabulary we want to search for"
   ]
  },
  {
   "cell_type": "code",
   "execution_count": 7,
   "metadata": {},
   "outputs": [],
   "source": [
    "vocab_df = pd.read_csv('./data/corpus.txt', sep = \".\", header = None )\n",
    "vocab_df.columns = ['idx', 'word']"
   ]
  },
  {
   "cell_type": "code",
   "execution_count": 8,
   "metadata": {},
   "outputs": [],
   "source": [
    "vocab_df['word'] = vocab_df['word'].apply(lambda x: x.replace('\\t', '').lower().strip())"
   ]
  },
  {
   "cell_type": "code",
   "execution_count": 9,
   "metadata": {},
   "outputs": [],
   "source": [
    "word_list = vocab_df.word.values"
   ]
  },
  {
   "cell_type": "code",
   "execution_count": 10,
   "metadata": {},
   "outputs": [
    {
     "data": {
      "text/plain": [
       "array(['completeness', 'compleet', 'bug', 'ux', 'user experience', 'ui',\n",
       "       'user interface', '2fa', 'factor authentication', 'face id',\n",
       "       'gezichtsherkenning', 'finger id', 'vingerherkenning',\n",
       "       'gebruikersvriendelijk', 'user friendliness', 'privacy', 'update',\n",
       "       'design', 'interface', 'functie', 'widget', 'ideal', 'privacy',\n",
       "       'veilig', 'security', 'overzicht', 'clear', 'service', 'style',\n",
       "       'apple pay', 'native', 'crash', 'snelheid', 'speed',\n",
       "       'functionaliteit', 'notificatie', 'alert', 'dark mode',\n",
       "       'adaptable', 'aanpasbaar', 'customize', 'inlog', 'log in', 'login',\n",
       "       'log-in', 'contact', 'technisch', 'technical', 'data',\n",
       "       'integratie', 'integration', 'helpdesk', 'feedback', 'makkelijk',\n",
       "       'easy', 'intuitive', 'intuitief', 'pincode', 'authenticatie',\n",
       "       'authentication', 'sustainable', 'duurzaam', 'environment',\n",
       "       'toekomst', 'future', 'gamification'], dtype=object)"
      ]
     },
     "execution_count": 10,
     "metadata": {},
     "output_type": "execute_result"
    }
   ],
   "source": [
    "word_list"
   ]
  },
  {
   "cell_type": "markdown",
   "metadata": {},
   "source": [
    "Ok, now try to find those words in the review"
   ]
  },
  {
   "cell_type": "code",
   "execution_count": 11,
   "metadata": {},
   "outputs": [],
   "source": [
    "def find_if_word_in_str(str_in, word_list):\n",
    "    contains_words = []\n",
    "    for try_word in word_list:\n",
    "        if str_in.count(' '+try_word+' '):\n",
    "            contains_words.append(try_word)\n",
    "    \n",
    "    return contains_words\n",
    "\n",
    "def count_word_in_str(str_in, word_list):\n",
    "    contains_words = 0\n",
    "    for try_word in word_list:\n",
    "        if str_in.count(' '+try_word+' '):\n",
    "            contains_words = contains_words + 1\n",
    "    \n",
    "    return contains_words"
   ]
  },
  {
   "cell_type": "code",
   "execution_count": 12,
   "metadata": {},
   "outputs": [],
   "source": [
    "bunq_reviews_df['n_feature_words'] = bunq_reviews_df['review_clean'].apply(lambda x: count_word_in_str(x, word_list))\n",
    "bunq_reviews_df['feature_words'] = bunq_reviews_df['review_clean'].apply(lambda x: find_if_word_in_str(x, word_list))"
   ]
  },
  {
   "cell_type": "code",
   "execution_count": 13,
   "metadata": {},
   "outputs": [],
   "source": [
    "# make a column for each word\n",
    "for try_word in word_list:\n",
    "    bunq_reviews_df[try_word] = bunq_reviews_df['review_clean'].apply(lambda x: count_word_in_str(x, [try_word]))"
   ]
  },
  {
   "cell_type": "markdown",
   "metadata": {},
   "source": [
    "Let's only look at reviews which include the words we're interested in"
   ]
  },
  {
   "cell_type": "code",
   "execution_count": 14,
   "metadata": {},
   "outputs": [],
   "source": [
    "bunq_feats_df = bunq_reviews_df[bunq_reviews_df['n_feature_words']>0].copy()"
   ]
  },
  {
   "cell_type": "markdown",
   "metadata": {},
   "source": [
    "Aaaaaand also let's drop any columns we don't care about"
   ]
  },
  {
   "cell_type": "code",
   "execution_count": 15,
   "metadata": {},
   "outputs": [],
   "source": [
    "bunq_feats_df.drop(columns = ['developerResponse', 'isEdited',  'userName'], inplace = True)"
   ]
  },
  {
   "cell_type": "markdown",
   "metadata": {},
   "source": [
    "Also drop any columns which count feature words which weren't used"
   ]
  },
  {
   "cell_type": "code",
   "execution_count": 16,
   "metadata": {},
   "outputs": [],
   "source": [
    "feature_word_counts = pd.DataFrame(bunq_feats_df.drop(columns = ['date','rating','review','title', 'review_clean', 'n_feature_words','feature_words']).sum()).rename(columns = {0:'counts'}).sort_values('counts', ascending = False)"
   ]
  },
  {
   "cell_type": "code",
   "execution_count": 17,
   "metadata": {},
   "outputs": [
    {
     "data": {
      "text/html": [
       "<div>\n",
       "<style scoped>\n",
       "    .dataframe tbody tr th:only-of-type {\n",
       "        vertical-align: middle;\n",
       "    }\n",
       "\n",
       "    .dataframe tbody tr th {\n",
       "        vertical-align: top;\n",
       "    }\n",
       "\n",
       "    .dataframe thead th {\n",
       "        text-align: right;\n",
       "    }\n",
       "</style>\n",
       "<table border=\"1\" class=\"dataframe\">\n",
       "  <thead>\n",
       "    <tr style=\"text-align: right;\">\n",
       "      <th></th>\n",
       "      <th>counts</th>\n",
       "    </tr>\n",
       "  </thead>\n",
       "  <tbody>\n",
       "    <tr>\n",
       "      <th>update</th>\n",
       "      <td>253</td>\n",
       "    </tr>\n",
       "    <tr>\n",
       "      <th>interface</th>\n",
       "      <td>52</td>\n",
       "    </tr>\n",
       "    <tr>\n",
       "      <th>ux</th>\n",
       "      <td>51</td>\n",
       "    </tr>\n",
       "    <tr>\n",
       "      <th>service</th>\n",
       "      <td>46</td>\n",
       "    </tr>\n",
       "    <tr>\n",
       "      <th>design</th>\n",
       "      <td>45</td>\n",
       "    </tr>\n",
       "    <tr>\n",
       "      <th>...</th>\n",
       "      <td>...</td>\n",
       "    </tr>\n",
       "    <tr>\n",
       "      <th>vingerherkenning</th>\n",
       "      <td>0</td>\n",
       "    </tr>\n",
       "    <tr>\n",
       "      <th>finger id</th>\n",
       "      <td>0</td>\n",
       "    </tr>\n",
       "    <tr>\n",
       "      <th>factor authentication</th>\n",
       "      <td>0</td>\n",
       "    </tr>\n",
       "    <tr>\n",
       "      <th>2fa</th>\n",
       "      <td>0</td>\n",
       "    </tr>\n",
       "    <tr>\n",
       "      <th>speed</th>\n",
       "      <td>0</td>\n",
       "    </tr>\n",
       "  </tbody>\n",
       "</table>\n",
       "<p>65 rows × 1 columns</p>\n",
       "</div>"
      ],
      "text/plain": [
       "                       counts\n",
       "update                    253\n",
       "interface                  52\n",
       "ux                         51\n",
       "service                    46\n",
       "design                     45\n",
       "...                       ...\n",
       "vingerherkenning            0\n",
       "finger id                   0\n",
       "factor authentication       0\n",
       "2fa                         0\n",
       "speed                       0\n",
       "\n",
       "[65 rows x 1 columns]"
      ]
     },
     "execution_count": 17,
     "metadata": {},
     "output_type": "execute_result"
    }
   ],
   "source": [
    "feature_word_counts"
   ]
  },
  {
   "cell_type": "markdown",
   "metadata": {},
   "source": [
    "We see that \"update\" is pretty hgih up there. The following feature words weren't used:"
   ]
  },
  {
   "cell_type": "code",
   "execution_count": 24,
   "metadata": {},
   "outputs": [
    {
     "name": "stdout",
     "output_type": "stream",
     "text": [
      "duurzaam\n",
      "authenticatie\n",
      "completeness\n",
      "log-in\n",
      "aanpasbaar\n",
      "adaptable\n",
      "alert\n",
      "user friendliness\n",
      "vingerherkenning\n",
      "finger id\n",
      "factor authentication\n",
      "2fa\n",
      "speed\n"
     ]
    }
   ],
   "source": [
    "words_not_used = feature_word_counts[feature_word_counts.counts == 0].index.values\n",
    "print('\\n'.join(words_not_used))"
   ]
  },
  {
   "cell_type": "markdown",
   "metadata": {},
   "source": [
    "so we'll remove those count columns"
   ]
  },
  {
   "cell_type": "code",
   "execution_count": 25,
   "metadata": {},
   "outputs": [],
   "source": [
    "bunq_feats_df.drop(columns = words_not_used, inplace=True)"
   ]
  },
  {
   "cell_type": "markdown",
   "metadata": {},
   "source": [
    "Ok, let's dive deeper into a single feature word, here's a list of the words we can explore:"
   ]
  },
  {
   "cell_type": "code",
   "execution_count": 29,
   "metadata": {},
   "outputs": [
    {
     "name": "stdout",
     "output_type": "stream",
     "text": [
      "Words used (in descending order of popularity):\n",
      "\n",
      "update\n",
      "interface\n",
      "ux\n",
      "service\n",
      "design\n",
      "ui\n",
      "easy\n",
      "feedback\n",
      "makkelijk\n",
      "intuitive\n",
      "contact\n",
      "apple pay\n",
      "overzicht\n",
      "compleet\n",
      "clear\n",
      "ideal\n",
      "functie\n",
      "user interface\n",
      "user experience\n",
      "toekomst\n",
      "gamification\n",
      "bug\n",
      "helpdesk\n",
      "functionaliteit\n",
      "pincode\n",
      "future\n",
      "environment\n",
      "dark mode\n",
      "veilig\n",
      "login\n",
      "security\n",
      "log in\n",
      "integratie\n",
      "data\n",
      "snelheid\n",
      "native\n",
      "sustainable\n",
      "privacy\n",
      "gezichtsherkenning\n",
      "technical\n",
      "widget\n",
      "integration\n",
      "face id\n",
      "technisch\n",
      "style\n",
      "intuitief\n",
      "inlog\n",
      "customize\n",
      "authentication\n",
      "notificatie\n",
      "crash\n",
      "gebruikersvriendelijk\n"
     ]
    }
   ],
   "source": [
    "words_used = feature_word_counts[feature_word_counts.counts > 0].index.values\n",
    "print('Words used (in descending order of popularity):\\n')\n",
    "print('\\n'.join(words_used))"
   ]
  },
  {
   "cell_type": "markdown",
   "metadata": {},
   "source": [
    "Let's just look at reviews containg ne of these words, take UX as our example"
   ]
  },
  {
   "cell_type": "code",
   "execution_count": 50,
   "metadata": {},
   "outputs": [
    {
     "data": {
      "image/png": "[encoded data removed]",
      "text/plain": [
       "<Figure size 720x576 with 1 Axes>"
      ]
     },
     "metadata": {
      "needs_background": "light"
     },
     "output_type": "display_data"
    }
   ],
   "source": [
    "feature_to_lookinto = 'ux' # n.b. everything has to be lowercase\n",
    "bunq_feats_df_subset = bunq_feats_df[bunq_feats_df[feature_to_lookinto]>0]\n",
    "\n",
    "fig, ax = plt.subplots(figsize = [10, 8])\n",
    "ax.hist(bunq_feats_df_subset['rating'], bins= [0.5, 1.5, 2.5, 3.5, 4.5, 5.5])\n",
    "ax.set_xlabel('User rating')\n",
    "ax.set_ylabel('Number of reviews')\n",
    "ax.set_title('Histogram of review score for reviews which mention the term \"{}\"'.format(feature_to_lookinto))\n",
    "plt.show()"
   ]
  },
  {
   "cell_type": "code",
   "execution_count": 55,
   "metadata": {},
   "outputs": [
    {
     "name": "stdout",
     "output_type": "stream",
     "text": [
      "All of the feedback and bug reports received during the public beta were promptly ignored and thus made V3 a terrible release. The UX is god-awful, my online cards have all but disappeared, dual pin is disabled for physical cards and everything that used to take 1-2 taps to navigate to is now a nightmare to get to. Oh and the social feed is garbage\n"
     ]
    }
   ],
   "source": [
    "# pick out one review at random that mentions this\n",
    "print(bunq_feats_df_subset.sample(1).review.values[0])"
   ]
  },
  {
   "cell_type": "code",
   "execution_count": null,
   "metadata": {},
   "outputs": [],
   "source": []
  }
 ],
 "metadata": {
  "kernelspec": {
   "display_name": "Python 3",
   "language": "python",
   "name": "python3"
  },
  "language_info": {
   "codemirror_mode": {
    "name": "ipython",
    "version": 3
   },
   "file_extension": ".py",
   "mimetype": "text/x-python",
   "name": "python",
   "nbconvert_exporter": "python",
   "pygments_lexer": "ipython3",
   "version": "3.7.6"
  }
 },
 "nbformat": 4,
 "nbformat_minor": 4
}
