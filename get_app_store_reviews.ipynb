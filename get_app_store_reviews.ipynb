{
 "cells": [
  {
   "cell_type": "markdown",
   "metadata": {},
   "source": [
    "### Libraries"
   ]
  },
  {
   "cell_type": "markdown",
   "metadata": {},
   "source": [
    "Install some libraries"
   ]
  },
  {
   "cell_type": "code",
   "execution_count": 4,
   "metadata": {},
   "outputs": [],
   "source": [
    "from app_store_scraper import AppStore\n",
    "import pandas as pd"
   ]
  },
  {
   "cell_type": "markdown",
   "metadata": {},
   "source": [
    "### Ok now get some reviews"
   ]
  },
  {
   "cell_type": "markdown",
   "metadata": {},
   "source": [
    "This command doesn't work for me but it should for you..."
   ]
  },
  {
   "cell_type": "code",
   "execution_count": 3,
   "metadata": {},
   "outputs": [],
   "source": [
    "bunq = AppStore(country=\"nl\", app_name=\"bunq\",)\n",
    "bunq.review(how_many=1000)\n",
    "\n",
    "# save these reviews in a nice format\n",
    "bunq_reviews_df = pd.DataFrame(data = bunq.reviews)\n",
    "# write this to file so we don't have to load it every time\n",
    "bunq_reviews_df.to_csv('./data/bunq_reviews.csv')"
   ]
  },
  {
   "cell_type": "markdown",
   "metadata": {},
   "source": [
    "... so I'll just load the data"
   ]
  },
  {
   "cell_type": "code",
   "execution_count": 6,
   "metadata": {},
   "outputs": [],
   "source": [
    "bunq_reviews_df = pd.read_csv('./data/bunq_reviews.csv', index_col = 0)"
   ]
  },
  {
   "cell_type": "markdown",
   "metadata": {},
   "source": [
    "Aaaaaand now we can see it's all in a nice table\":"
   ]
  },
  {
   "cell_type": "code",
   "execution_count": 7,
   "metadata": {},
   "outputs": [
    {
     "data": {
      "text/html": [
       "<div>\n",
       "<style scoped>\n",
       "    .dataframe tbody tr th:only-of-type {\n",
       "        vertical-align: middle;\n",
       "    }\n",
       "\n",
       "    .dataframe tbody tr th {\n",
       "        vertical-align: top;\n",
       "    }\n",
       "\n",
       "    .dataframe thead th {\n",
       "        text-align: right;\n",
       "    }\n",
       "</style>\n",
       "<table border=\"1\" class=\"dataframe\">\n",
       "  <thead>\n",
       "    <tr style=\"text-align: right;\">\n",
       "      <th></th>\n",
       "      <th>date</th>\n",
       "      <th>developerResponse</th>\n",
       "      <th>isEdited</th>\n",
       "      <th>rating</th>\n",
       "      <th>review</th>\n",
       "      <th>title</th>\n",
       "      <th>userName</th>\n",
       "    </tr>\n",
       "  </thead>\n",
       "  <tbody>\n",
       "    <tr>\n",
       "      <th>0</th>\n",
       "      <td>2018-03-18 21:55:14</td>\n",
       "      <td>{'id': 2954332, 'body': \"🙂 Thank you for your ...</td>\n",
       "      <td>False</td>\n",
       "      <td>5</td>\n",
       "      <td>De enige reden dat bunq investeert, in staatso...</td>\n",
       "      <td>Meest ethische bank</td>\n",
       "      <td>whaha</td>\n",
       "    </tr>\n",
       "    <tr>\n",
       "      <th>1</th>\n",
       "      <td>2020-06-18 15:08:26</td>\n",
       "      <td>NaN</td>\n",
       "      <td>False</td>\n",
       "      <td>1</td>\n",
       "      <td>I was a big fan of Bunq until the recent updat...</td>\n",
       "      <td>I was a big fan</td>\n",
       "      <td>IPOQI</td>\n",
       "    </tr>\n",
       "    <tr>\n",
       "      <th>2</th>\n",
       "      <td>2020-06-18 14:36:10</td>\n",
       "      <td>NaN</td>\n",
       "      <td>False</td>\n",
       "      <td>1</td>\n",
       "      <td>Dit is de eerste keer in mijn leven dat ik mij...</td>\n",
       "      <td>Wat een waardeloze update</td>\n",
       "      <td>Robert U NL</td>\n",
       "    </tr>\n",
       "    <tr>\n",
       "      <th>3</th>\n",
       "      <td>2020-06-18 15:07:05</td>\n",
       "      <td>NaN</td>\n",
       "      <td>False</td>\n",
       "      <td>1</td>\n",
       "      <td>With the V3 update Bunq totally messed up! Clu...</td>\n",
       "      <td>V3 totally messed up</td>\n",
       "      <td>R@lfee</td>\n",
       "    </tr>\n",
       "    <tr>\n",
       "      <th>4</th>\n",
       "      <td>2020-06-18 14:12:30</td>\n",
       "      <td>NaN</td>\n",
       "      <td>False</td>\n",
       "      <td>1</td>\n",
       "      <td>Grote fan geweest van Bunq. Maar met de laatst...</td>\n",
       "      <td>Verschrikkelijk na update</td>\n",
       "      <td>slammer1024</td>\n",
       "    </tr>\n",
       "  </tbody>\n",
       "</table>\n",
       "</div>"
      ],
      "text/plain": [
       "                  date                                  developerResponse  \\\n",
       "0  2018-03-18 21:55:14  {'id': 2954332, 'body': \"🙂 Thank you for your ...   \n",
       "1  2020-06-18 15:08:26                                                NaN   \n",
       "2  2020-06-18 14:36:10                                                NaN   \n",
       "3  2020-06-18 15:07:05                                                NaN   \n",
       "4  2020-06-18 14:12:30                                                NaN   \n",
       "\n",
       "   isEdited  rating                                             review  \\\n",
       "0     False       5  De enige reden dat bunq investeert, in staatso...   \n",
       "1     False       1  I was a big fan of Bunq until the recent updat...   \n",
       "2     False       1  Dit is de eerste keer in mijn leven dat ik mij...   \n",
       "3     False       1  With the V3 update Bunq totally messed up! Clu...   \n",
       "4     False       1  Grote fan geweest van Bunq. Maar met de laatst...   \n",
       "\n",
       "                       title     userName  \n",
       "0        Meest ethische bank        whaha  \n",
       "1            I was a big fan        IPOQI  \n",
       "2  Wat een waardeloze update  Robert U NL  \n",
       "3       V3 totally messed up       R@lfee  \n",
       "4  Verschrikkelijk na update  slammer1024  "
      ]
     },
     "execution_count": 7,
     "metadata": {},
     "output_type": "execute_result"
    }
   ],
   "source": [
    "bunq_reviews_df.head(5)"
   ]
  },
  {
   "cell_type": "markdown",
   "metadata": {},
   "source": [
    "Let's look at a random review just to see what people are saying:"
   ]
  },
  {
   "cell_type": "code",
   "execution_count": 13,
   "metadata": {},
   "outputs": [
    {
     "name": "stdout",
     "output_type": "stream",
     "text": [
      "De nieuwe V3 app is een UX drama. Ongelooflijk dat ze van een geweldige app naar deze troep zijn gegaan. Ontzettend onlogisch opgezette app, vol met bugs (die tijdens de beta wel kenbaar zijn gemaakt maar niet zijn opgelost), die al het opgebouwde krediet teniet doet.\n"
     ]
    }
   ],
   "source": [
    "print(bunq_reviews_df.sample(1)['review'].values[0])"
   ]
  },
  {
   "cell_type": "code",
   "execution_count": null,
   "metadata": {},
   "outputs": [],
   "source": []
  }
 ],
 "metadata": {
  "kernelspec": {
   "display_name": "Python 3",
   "language": "python",
   "name": "python3"
  },
  "language_info": {
   "codemirror_mode": {
    "name": "ipython",
    "version": 3
   },
   "file_extension": ".py",
   "mimetype": "text/x-python",
   "name": "python",
   "nbconvert_exporter": "python",
   "pygments_lexer": "ipython3",
   "version": "3.7.6"
  }
 },
 "nbformat": 4,
 "nbformat_minor": 4
}
